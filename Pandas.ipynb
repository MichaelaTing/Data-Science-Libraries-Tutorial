{
 "cells": [
  {
   "cell_type": "code",
   "execution_count": 2,
   "metadata": {},
   "outputs": [],
   "source": [
    "import pandas as pd\n",
    "import numpy as np\n",
    "import matplotlib.pyplot as plt"
   ]
  },
  {
   "attachments": {},
   "cell_type": "markdown",
   "metadata": {},
   "source": [
    "Numpy 是列表形式的，没有数值标签，而 Pandas 是字典形式。\n",
    "\n",
    "## 主要数据结构：Series 和 DataFrame"
   ]
  },
  {
   "cell_type": "code",
   "execution_count": 22,
   "metadata": {},
   "outputs": [
    {
     "name": "stdout",
     "output_type": "stream",
     "text": [
      "0     1.0\n",
      "1     3.0\n",
      "2     6.0\n",
      "3     NaN\n",
      "4    44.0\n",
      "5     1.0\n",
      "dtype: float64\n",
      "array: [ 1.  3.  6. nan 44.  1.]\n",
      "list: [1.0, 3.0, 6.0, nan, 44.0, 1.0]\n"
     ]
    }
   ],
   "source": [
    "s = pd.Series([1,3,6,np.nan,44,1]) # Series的字符串表现形式为：索引在左边，值在右边。由于没有为数据指定索引，于是会自动创建一个 0 到 N-1 的整数型索引。\n",
    "print(s)\n",
    "s = pd.Series(np.random.rand(3), index=[\"a\", \"b\", \"c\"]) # 用 numpy.array 创建 Series\n",
    "print(\"array:\", s.to_numpy()) # Series 回退到 numpy.array\n",
    "print(\"list:\", s.values.tolist()) # Series 回退到 list"
   ]
  },
  {
   "cell_type": "code",
   "execution_count": 3,
   "metadata": {},
   "outputs": [
    {
     "name": "stdout",
     "output_type": "stream",
     "text": [
      "DatetimeIndex(['2021-04-04', '2021-04-05', '2021-04-06', '2021-04-07',\n",
      "               '2021-04-08', '2021-04-09'],\n",
      "              dtype='datetime64[ns]', freq='D')\n",
      "                   a         b         c         d\n",
      "2021-04-04  0.455298  0.292048  0.268906  0.169680\n",
      "2021-04-05  0.670648  0.523611  0.244235  0.916104\n",
      "2021-04-06  0.680378  0.791399  0.836972  0.715431\n",
      "2021-04-07  0.148129  0.707692  0.313332  0.319539\n",
      "2021-04-08  0.071891  0.268907  0.166796  0.718129\n",
      "2021-04-09  0.056002  0.287437  0.412914  0.649327\n",
      "2021-04-04    0.292048\n",
      "2021-04-05    0.523611\n",
      "2021-04-06    0.791399\n",
      "2021-04-07    0.707692\n",
      "2021-04-08    0.268907\n",
      "2021-04-09    0.287437\n",
      "Freq: D, Name: b, dtype: float64\n",
      "   0  1   2   3\n",
      "0  0  1   2   3\n",
      "1  4  5   6   7\n",
      "2  8  9  10  11\n"
     ]
    }
   ],
   "source": [
    "dates = pd.date_range(\"20210404\", periods=6)\n",
    "print(dates)\n",
    "df = pd.DataFrame(np.random.rand(6,4), index=dates, columns=['a','b','c','d']) # DataFrame是一个表格型的数据结构，既有行索引也有列索引\n",
    "print(df)\n",
    "print(df['b'])\n",
    "df1 = pd.DataFrame(np.arange(12).reshape((3,4)))\n",
    "print(df1)"
   ]
  },
  {
   "cell_type": "code",
   "execution_count": 25,
   "metadata": {},
   "outputs": [
    {
     "name": "stdout",
     "output_type": "stream",
     "text": [
      "     A          B    C  D      E    F\n",
      "0  1.0 2022-01-02  1.0  3   test  foo\n",
      "1  1.0 2022-01-02  1.0  3  train  foo\n",
      "2  1.0 2022-01-02  1.0  3   test  foo\n",
      "3  1.0 2022-01-02  1.0  3  train  foo\n",
      "A           float64\n",
      "B    datetime64[ns]\n",
      "C           float32\n",
      "D             int32\n",
      "E          category\n",
      "F            object\n",
      "dtype: object\n",
      "Int64Index([0, 1, 2, 3], dtype='int64')\n",
      "Index(['A', 'B', 'C', 'D', 'E', 'F'], dtype='object')\n",
      "[[1.0 Timestamp('2022-01-02 00:00:00') 1.0 3 'test' 'foo']\n",
      " [1.0 Timestamp('2022-01-02 00:00:00') 1.0 3 'train' 'foo']\n",
      " [1.0 Timestamp('2022-01-02 00:00:00') 1.0 3 'test' 'foo']\n",
      " [1.0 Timestamp('2022-01-02 00:00:00') 1.0 3 'train' 'foo']]\n",
      "         A    C    D\n",
      "count  4.0  4.0  4.0\n",
      "mean   1.0  1.0  3.0\n",
      "std    0.0  0.0  0.0\n",
      "min    1.0  1.0  3.0\n",
      "25%    1.0  1.0  3.0\n",
      "50%    1.0  1.0  3.0\n",
      "75%    1.0  1.0  3.0\n",
      "max    1.0  1.0  3.0\n",
      "                     0                    1                    2  \\\n",
      "A                  1.0                  1.0                  1.0   \n",
      "B  2022-01-02 00:00:00  2022-01-02 00:00:00  2022-01-02 00:00:00   \n",
      "C                  1.0                  1.0                  1.0   \n",
      "D                    3                    3                    3   \n",
      "E                 test                train                 test   \n",
      "F                  foo                  foo                  foo   \n",
      "\n",
      "                     3  \n",
      "A                  1.0  \n",
      "B  2022-01-02 00:00:00  \n",
      "C                  1.0  \n",
      "D                    3  \n",
      "E                train  \n",
      "F                  foo  \n",
      "A    1.0\n",
      "C    1.0\n",
      "D    3.0\n",
      "dtype: float64\n"
     ]
    },
    {
     "name": "stderr",
     "output_type": "stream",
     "text": [
      "<ipython-input-25-a565ab229860>:14: FutureWarning: DataFrame.mean and DataFrame.median with numeric_only=None will include datetime64 and datetime64tz columns in a future version.\n",
      "  print(df2.mean(axis=0)) # 均值\n"
     ]
    },
    {
     "data": {
      "text/plain": [
       "array([[1, 2],\n",
       "       [3, 4]])"
      ]
     },
     "execution_count": 25,
     "metadata": {},
     "output_type": "execute_result"
    }
   ],
   "source": [
    "df2 = pd.DataFrame({'A' : 1.,\n",
    "                    'B' : pd.Timestamp('20220102'),\n",
    "                    'C' : pd.Series(1,index=list(range(4)),dtype='float32'),\n",
    "                    'D' : np.array([3] * 4,dtype='int32'),\n",
    "                    'E' : pd.Categorical([\"test\",\"train\",\"test\",\"train\"]),\n",
    "                    'F' : 'foo'})\n",
    "print(df2)\n",
    "print(df2.dtypes)\n",
    "print(df2.index) # 查看对列的序号\n",
    "print(df2.columns) # 查看每种数据的名称\n",
    "print(df2.values) # 查看所有的值\n",
    "print(df2.describe()) # 查看数据的总结\n",
    "print(df2.T) # 翻转数据\n",
    "print(df2.mean(axis=0)) # 均值\n",
    "df.mean(axis=0, skipna=False) # 当 skipna=False 的时候，只要遇到了 None 或者 NaN，就不计算这列、行的数据\n",
    "\n",
    "df = pd.DataFrame({\"col1\": [1,3], \"col2\": [2, 4]}, index=[\"a\", \"b\"])\n",
    "df.to_numpy() # 回退到 numpy.array"
   ]
  },
  {
   "cell_type": "code",
   "execution_count": 30,
   "metadata": {},
   "outputs": [
    {
     "name": "stdout",
     "output_type": "stream",
     "text": [
      "sum(axis=0):\n",
      " c0    18\n",
      "c1    22\n",
      "c2    26\n",
      "dtype: int64\n",
      "sum(axis=1):\n",
      " 0     3\n",
      "1    12\n",
      "2    21\n",
      "3    30\n",
      "dtype: int64\n",
      "prod(axis=0):\n",
      " c0      0\n",
      "c1    280\n",
      "c2    880\n",
      "dtype: int64\n",
      "prod(axis=1):\n",
      " 0      0\n",
      "1     60\n",
      "2    336\n",
      "3    990\n",
      "dtype: int64\n",
      "max():\n",
      " c0     9\n",
      "c1    10\n",
      "c2    11\n",
      "dtype: int64\n",
      "min():\n",
      " c0    0\n",
      "c1    1\n",
      "c2    2\n",
      "dtype: int64\n"
     ]
    }
   ],
   "source": [
    "df = pd.DataFrame(np.arange(12).reshape((4,3)), columns=[\"c0\", \"c1\", \"c2\"])\n",
    "print(\"sum(axis=0):\\n\", df.sum(axis=0)) # 累加\n",
    "print(\"sum(axis=1):\\n\", df.sum(axis=1))\n",
    "\n",
    "print(\"prod(axis=0):\\n\", df.prod(axis=0)) # 累乘\n",
    "print(\"prod(axis=1):\\n\", df.prod(axis=1))\n",
    "\n",
    "print(\"max():\\n\", df.max())\n",
    "print(\"min():\\n\", df.min())\n",
    "\n",
    "print(df.max().max()) # 全局最大最小值\n",
    "print(df.values.ravel().max())  # 用 Numpy 的方式运算"
   ]
  },
  {
   "cell_type": "code",
   "execution_count": 5,
   "metadata": {},
   "outputs": [
    {
     "name": "stdout",
     "output_type": "stream",
     "text": [
      "     F      E  D    C          B  A\n",
      "0  foo   test  3  1.0 2021-04-04  1\n",
      "1  foo  train  3  1.0 2021-04-04  1\n",
      "2  foo   test  3  1.0 2021-04-04  1\n",
      "3  foo  train  3  1.0 2021-04-04  1\n",
      "   A          B    C  D      E    F\n",
      "3  1 2021-04-04  1.0  3  train  foo\n",
      "2  1 2021-04-04  1.0  3   test  foo\n",
      "1  1 2021-04-04  1.0  3  train  foo\n",
      "0  1 2021-04-04  1.0  3   test  foo\n",
      "   A          B    C  D      E    F\n",
      "0  1 2021-04-04  1.0  3   test  foo\n",
      "2  1 2021-04-04  1.0  3   test  foo\n",
      "1  1 2021-04-04  1.0  3  train  foo\n",
      "3  1 2021-04-04  1.0  3  train  foo\n"
     ]
    }
   ],
   "source": [
    "print(df2.sort_index(axis=1, ascending=False)) # 对数据的 index 进行排序并输出\n",
    "print(df2.sort_index(axis=0, ascending=False))\n",
    "print(df2.sort_values(by='E')) # 对数据值排序输出"
   ]
  },
  {
   "attachments": {},
   "cell_type": "markdown",
   "metadata": {},
   "source": [
    "## 选择数据"
   ]
  },
  {
   "cell_type": "code",
   "execution_count": 6,
   "metadata": {},
   "outputs": [
    {
     "name": "stdout",
     "output_type": "stream",
     "text": [
      "             A   B   C   D\n",
      "2021-04-04   0   1   2   3\n",
      "2021-04-05   4   5   6   7\n",
      "2021-04-06   8   9  10  11\n",
      "2021-04-07  12  13  14  15\n",
      "2021-04-08  16  17  18  19\n",
      "2021-04-09  20  21  22  23\n",
      "2021-04-04     0\n",
      "2021-04-05     4\n",
      "2021-04-06     8\n",
      "2021-04-07    12\n",
      "2021-04-08    16\n",
      "2021-04-09    20\n",
      "Freq: D, Name: A, dtype: int64\n",
      "             A   B   C   D\n",
      "2021-04-05   4   5   6   7\n",
      "2021-04-06   8   9  10  11\n",
      "2021-04-07  12  13  14  15\n",
      "             A   B   C   D\n",
      "2021-04-05   4   5   6   7\n",
      "2021-04-06   8   9  10  11\n",
      "2021-04-07  12  13  14  15\n"
     ]
    }
   ],
   "source": [
    "dates = pd.date_range('20210404',periods=6)\n",
    "df = pd.DataFrame(np.arange(24).reshape((6,-1)), index=dates, columns=['A','B','C','D'])\n",
    "print(df)\n",
    "print(df['A'])\n",
    "print(df[1:4])\n",
    "print(df['20210405':'20210407'])"
   ]
  },
  {
   "cell_type": "code",
   "execution_count": 9,
   "metadata": {},
   "outputs": [
    {
     "name": "stdout",
     "output_type": "stream",
     "text": [
      "A    4\n",
      "B    5\n",
      "C    6\n",
      "D    7\n",
      "Name: 2021-04-05 00:00:00, dtype: int64\n",
      "             A   B\n",
      "2021-04-04   0   1\n",
      "2021-04-05   4   5\n",
      "2021-04-06   8   9\n",
      "2021-04-07  12  13\n",
      "2021-04-08  16  17\n",
      "2021-04-09  20  21\n",
      "             A   B\n",
      "2021-04-07  12  13\n",
      "2021-04-08  16  17\n",
      "2021-04-09  20  21\n",
      "             B   C   D\n",
      "2021-04-07  13  14  15\n",
      "2021-04-08  17  18  19\n",
      "             A   D\n",
      "2021-04-05   4   7\n",
      "2021-04-08  16  19\n"
     ]
    }
   ],
   "source": [
    "# 根据标签 loc\n",
    "print(df.loc['20210405'])\n",
    "print(df.loc[:,['A','B']])\n",
    "print(df.loc['20210407':,['A','B']])\n",
    "# 根据位置 iloc\n",
    "print(df.iloc[3:5,1:4])\n",
    "print(df.iloc[[1,4],[0,3]])"
   ]
  },
  {
   "cell_type": "code",
   "execution_count": 8,
   "metadata": {},
   "outputs": [
    {
     "name": "stdout",
     "output_type": "stream",
     "text": [
      "             A   B   C   D\n",
      "2021-04-07  12  13  14  15\n",
      "2021-04-08  16  17  18  19\n",
      "2021-04-09  20  21  22  23\n"
     ]
    }
   ],
   "source": [
    "print(df[df.A>8]) # 采用判断指令进行选择"
   ]
  },
  {
   "cell_type": "code",
   "execution_count": 32,
   "metadata": {},
   "outputs": [
    {
     "name": "stdout",
     "output_type": "stream",
     "text": [
      "   A  B    C  D\n",
      "0  1  2  3.0  0\n",
      "1  3  4  NaN  1\n",
      "2  3  5  2.0  1\n",
      "3  3  2  2.0  3\n",
      "idxmax():\n",
      " A    1\n",
      "B    2\n",
      "C    0\n",
      "D    3\n",
      "dtype: int64\n",
      "idxmax(skipna=False):\n",
      " A    1.0\n",
      "B    2.0\n",
      "C    NaN\n",
      "D    3.0\n",
      "dtype: float64\n",
      "idxmin():\n",
      " A    0\n",
      "B    0\n",
      "C    2\n",
      "D    0\n",
      "dtype: int64\n"
     ]
    }
   ],
   "source": [
    "df = pd.DataFrame([[1, 2, 3, 0],\n",
    "                   [3, 4, None, 1],\n",
    "                   [3, 5, 2, 1],\n",
    "                   [3, 2, 2, 3]],\n",
    "                  columns=list(\"ABCD\"))\n",
    "print(df)\n",
    "print(\"idxmax():\\n\", df.idxmax()) # 找到那个最大最小值的索引\n",
    "print(\"idxmax(skipna=False):\\n\", df.idxmax(skipna=False))\n",
    "print(\"idxmin():\\n\", df.idxmin())"
   ]
  },
  {
   "attachments": {},
   "cell_type": "markdown",
   "metadata": {},
   "source": [
    "## 设置值"
   ]
  },
  {
   "cell_type": "code",
   "execution_count": 11,
   "metadata": {},
   "outputs": [
    {
     "name": "stdout",
     "output_type": "stream",
     "text": [
      "             A    B    C   D   F  E\n",
      "2021-04-04   0    1    2   3 NaN  1\n",
      "2021-04-05   4    5    6   7 NaN  2\n",
      "2021-04-06   8  222  111  11 NaN  3\n",
      "2021-04-07  12    0   14  15 NaN  4\n",
      "2021-04-08  16    0   18  19 NaN  5\n",
      "2021-04-09  20    0   22  23 NaN  6\n"
     ]
    }
   ],
   "source": [
    "dates = pd.date_range('20210404',periods=6)\n",
    "df = pd.DataFrame(np.arange(24).reshape((6,-1)),index=dates,columns=['A','B','C','D'])\n",
    "df.iloc[2,2] = 111\n",
    "df.loc['20210406','B'] = 222\n",
    "df.B[df.A>8] = 0\n",
    "df['F'] = np.nan\n",
    "df['E'] = pd.Series([1,2,3,4,5,6],index=dates)\n",
    "print(df)"
   ]
  },
  {
   "attachments": {},
   "cell_type": "markdown",
   "metadata": {},
   "source": [
    "## 处理丢失数据"
   ]
  },
  {
   "cell_type": "code",
   "execution_count": 31,
   "metadata": {},
   "outputs": [
    {
     "name": "stdout",
     "output_type": "stream",
     "text": [
      "             A     B     C   D\n",
      "2021-04-04   0   NaN   2.0   3\n",
      "2021-04-05   4   5.0   NaN   7\n",
      "2021-04-06   8   9.0  10.0  11\n",
      "2021-04-07  12  13.0  14.0  15\n",
      "2021-04-08  16  17.0  18.0  19\n",
      "2021-04-09  20  21.0  22.0  23\n",
      "             A     B     C   D\n",
      "2021-04-06   8   9.0  10.0  11\n",
      "2021-04-07  12  13.0  14.0  15\n",
      "2021-04-08  16  17.0  18.0  19\n",
      "2021-04-09  20  21.0  22.0  23\n",
      "             A   D\n",
      "2021-04-04   0   3\n",
      "2021-04-05   4   7\n",
      "2021-04-06   8  11\n",
      "2021-04-07  12  15\n",
      "2021-04-08  16  19\n",
      "2021-04-09  20  23\n",
      "             A     B     C   D\n",
      "2021-04-04   0   0.0   2.0   3\n",
      "2021-04-05   4   5.0   0.0   7\n",
      "2021-04-06   8   9.0  10.0  11\n",
      "2021-04-07  12  13.0  14.0  15\n",
      "2021-04-08  16  17.0  18.0  19\n",
      "2021-04-09  20  21.0  22.0  23\n",
      "             A     B     C   D\n",
      "2021-04-04   0   1.0   2.0   3\n",
      "2021-04-05   4   5.0   2.0   7\n",
      "2021-04-06   8   9.0  10.0  11\n",
      "2021-04-07  12  13.0  14.0  15\n",
      "2021-04-08  16  17.0  18.0  19\n",
      "2021-04-09  20  21.0  22.0  23\n",
      "                A      B      C      D\n",
      "2021-04-04  False   True  False  False\n",
      "2021-04-05  False  False   True  False\n",
      "2021-04-06  False  False  False  False\n",
      "2021-04-07  False  False  False  False\n",
      "2021-04-08  False  False  False  False\n",
      "2021-04-09  False  False  False  False\n",
      "True\n"
     ]
    }
   ],
   "source": [
    "dates = pd.date_range('20210404',periods=6)\n",
    "df = pd.DataFrame(np.arange(24).reshape((6,-1)),index=dates,columns=['A','B','C','D'])\n",
    "df.iloc[0,1] = np.nan\n",
    "df.iloc[1,2] = np.nan\n",
    "print(df)\n",
    "\n",
    "# how={'any', 'all'}， 'any': 只要存在 NaN 就 drop ; 'all': 必须全部是 NaN 才 drop \n",
    "print(df.dropna(axis=0, how='any')) # 对行进行操作\n",
    "print(df.dropna(axis=1, how='any')) # 对列进行操作\n",
    "print(df.fillna(value=0)) # 将 NaN 的值用其他值代替\n",
    "values = {\"A\": 0, \"B\": 1, \"C\": 2, \"D\": 3}\n",
    "print(df.fillna(value=values)) # 对不同特征列做差异化的填充数值\n",
    "\n",
    "print(df.isnull())\n",
    "print(np.any(df.isnull())==True) # 检测在数据中是否存在 NaN, 如果存在就返回 True"
   ]
  },
  {
   "attachments": {},
   "cell_type": "markdown",
   "metadata": {},
   "source": [
    "## 导入导出"
   ]
  },
  {
   "cell_type": "code",
   "execution_count": 11,
   "metadata": {},
   "outputs": [],
   "source": [
    "pd.read_excel(index_col=0) # 使用 index_col=0 就是让它使用第一个 column 的数据当做 row 索引\n",
    "df.to_excel()\n",
    "data = pd.read_csv('example.csv', index_col=0, sep=\"=\")\n",
    "df.to_csv()\n",
    "data.to_pickle('example.pickle')"
   ]
  },
  {
   "attachments": {},
   "cell_type": "markdown",
   "metadata": {},
   "source": [
    "## 合并数据"
   ]
  },
  {
   "cell_type": "code",
   "execution_count": 10,
   "metadata": {},
   "outputs": [
    {
     "name": "stdout",
     "output_type": "stream",
     "text": [
      "     A    B    C    D\n",
      "0  0.0  0.0  0.0  0.0\n",
      "1  0.0  0.0  0.0  0.0\n",
      "2  0.0  0.0  0.0  0.0\n",
      "0  1.0  1.0  1.0  1.0\n",
      "1  1.0  1.0  1.0  1.0\n",
      "2  1.0  1.0  1.0  1.0\n",
      "0  2.0  2.0  2.0  2.0\n",
      "1  2.0  2.0  2.0  2.0\n",
      "2  2.0  2.0  2.0  2.0\n",
      "     A    B    C    D\n",
      "0  0.0  0.0  0.0  0.0\n",
      "1  0.0  0.0  0.0  0.0\n",
      "2  0.0  0.0  0.0  0.0\n",
      "3  1.0  1.0  1.0  1.0\n",
      "4  1.0  1.0  1.0  1.0\n",
      "5  1.0  1.0  1.0  1.0\n",
      "6  2.0  2.0  2.0  2.0\n",
      "7  2.0  2.0  2.0  2.0\n",
      "8  2.0  2.0  2.0  2.0\n"
     ]
    }
   ],
   "source": [
    "df1 = pd.DataFrame(np.ones((3,4))*0, columns=['A','B','C','D'])\n",
    "df2 = pd.DataFrame(np.ones((3,4))*1, columns=['A','B','C','D'])\n",
    "df3 = pd.DataFrame(np.ones((3,4))*2, columns=['A','B','C','D'])\n",
    "res1 = pd.concat([df1,df2,df3], axis=0)  # 0: 纵向, 1: 横向\n",
    "res2 = pd.concat([df1,df2,df3], axis=0, ignore_index=True) # 重置 index\n",
    "print(res1)\n",
    "print(res2)"
   ]
  },
  {
   "cell_type": "code",
   "execution_count": 13,
   "metadata": {},
   "outputs": [
    {
     "name": "stdout",
     "output_type": "stream",
     "text": [
      "     A    B    C    D\n",
      "0  0.0  0.0  0.0  0.0\n",
      "1  0.0  0.0  0.0  0.0\n",
      "2  0.0  0.0  0.0  0.0\n",
      "3  1.0  2.0  3.0  4.0\n",
      "     A    B    C    D\n",
      "0  0.0  0.0  0.0  0.0\n",
      "1  0.0  0.0  0.0  0.0\n",
      "2  0.0  0.0  0.0  0.0\n",
      "3  1.0  1.0  1.0  1.0\n",
      "4  1.0  1.0  1.0  1.0\n",
      "5  1.0  1.0  1.0  1.0\n",
      "6  2.0  2.0  2.0  2.0\n",
      "7  2.0  2.0  2.0  2.0\n",
      "8  2.0  2.0  2.0  2.0\n"
     ]
    }
   ],
   "source": [
    "s1 = pd.Series([1,2,3,4],index=['A','B','C','D']) # 添加数据\n",
    "res1 = df1.append(s1, ignore_index=True)\n",
    "print(res1)\n",
    "res2 = df1.append([df2, df3],ignore_index=True)\n",
    "print(res2)"
   ]
  },
  {
   "cell_type": "code",
   "execution_count": 15,
   "metadata": {},
   "outputs": [
    {
     "name": "stdout",
     "output_type": "stream",
     "text": [
      "     A    B    C    D    E\n",
      "1  0.0  0.0  0.0  0.0  NaN\n",
      "2  0.0  0.0  0.0  0.0  NaN\n",
      "3  0.0  0.0  0.0  0.0  NaN\n",
      "2  NaN  1.0  1.0  1.0  1.0\n",
      "3  NaN  1.0  1.0  1.0  1.0\n",
      "4  NaN  1.0  1.0  1.0  1.0\n",
      "     B    C    D\n",
      "0  0.0  0.0  0.0\n",
      "1  0.0  0.0  0.0\n",
      "2  0.0  0.0  0.0\n",
      "3  1.0  1.0  1.0\n",
      "4  1.0  1.0  1.0\n",
      "5  1.0  1.0  1.0\n",
      "     A    B    C    D    B    C    D    E\n",
      "1  0.0  0.0  0.0  0.0  NaN  NaN  NaN  NaN\n",
      "2  0.0  0.0  0.0  0.0  1.0  1.0  1.0  1.0\n",
      "3  0.0  0.0  0.0  0.0  1.0  1.0  1.0  1.0\n",
      "4  NaN  NaN  NaN  NaN  1.0  1.0  1.0  1.0\n"
     ]
    }
   ],
   "source": [
    "df1 = pd.DataFrame(np.ones((3,4))*0, columns=['A','B','C','D'], index=[1,2,3])\n",
    "df2 = pd.DataFrame(np.ones((3,4))*1, columns=['B','C','D','E'], index=[2,3,4])\n",
    "res = pd.concat([df1, df2], axis=0, join='outer') # 默认 outer，纵向合并\n",
    "print(res)\n",
    "res1 = pd.concat([df1,df2], join='inner', ignore_index=True)\n",
    "print(res1)\n",
    "res2 = pd.concat([df1, df2], axis=1) # 横向合并\n",
    "print(res2)"
   ]
  },
  {
   "cell_type": "code",
   "execution_count": 16,
   "metadata": {},
   "outputs": [
    {
     "name": "stdout",
     "output_type": "stream",
     "text": [
      "  key   A   B\n",
      "0  K0  A0  B0\n",
      "1  K1  A1  B1\n",
      "2  K2  A2  B2\n",
      "3  K3  A3  B3\n",
      "  key   A   B   C   D\n",
      "0  K0  A0  B0  C0  D0\n",
      "1  K1  A1  B1  C1  D1\n",
      "2  K2  A2  B2  C2  D2\n",
      "3  K3  A3  B3  C3  D3\n"
     ]
    }
   ],
   "source": [
    "left = pd.DataFrame({'key': ['K0', 'K1', 'K2', 'K3'],\n",
    "                             'A': ['A0', 'A1', 'A2', 'A3'],\n",
    "                             'B': ['B0', 'B1', 'B2', 'B3']})\n",
    "right = pd.DataFrame({'key': ['K0', 'K1', 'K2', 'K3'],\n",
    "                              'C': ['C0', 'C1', 'C2', 'C3'],\n",
    "                              'D': ['D0', 'D1', 'D2', 'D3']})\n",
    "print(left)\n",
    "res = pd.merge(left, right, on='key')\n",
    "print(res)"
   ]
  },
  {
   "cell_type": "code",
   "execution_count": 16,
   "metadata": {},
   "outputs": [
    {
     "name": "stdout",
     "output_type": "stream",
     "text": [
      "  key1 key2   A   B\n",
      "0   K0   K0  A0  B0\n",
      "1   K0   K1  A1  B1\n",
      "2   K1   K0  A2  B2\n",
      "3   K2   K1  A3  B3\n",
      "  key1 key2   C   D\n",
      "0   K0   K0  C0  D0\n",
      "1   K1   K0  C1  D1\n",
      "2   K1   K0  C2  D2\n",
      "3   K2   K0  C3  D3\n",
      "  key1 key2   A   B   C   D\n",
      "0   K0   K0  A0  B0  C0  D0\n",
      "1   K1   K0  A2  B2  C1  D1\n",
      "2   K1   K0  A2  B2  C2  D2\n",
      "  key1 key2   A   B    C    D\n",
      "0   K0   K0  A0  B0   C0   D0\n",
      "1   K0   K1  A1  B1  NaN  NaN\n",
      "2   K1   K0  A2  B2   C1   D1\n",
      "3   K1   K0  A2  B2   C2   D2\n",
      "4   K2   K1  A3  B3  NaN  NaN\n"
     ]
    }
   ],
   "source": [
    "left = pd.DataFrame({'key1': ['K0', 'K0', 'K1', 'K2'],\n",
    "                    'key2': ['K0', 'K1', 'K0', 'K1'],\n",
    "                    'A': ['A0', 'A1', 'A2', 'A3'],\n",
    "                    'B': ['B0', 'B1', 'B2', 'B3']})\n",
    "right = pd.DataFrame({'key1': ['K0', 'K1', 'K1', 'K2'],\n",
    "                    'key2': ['K0', 'K0', 'K0', 'K0'],\n",
    "                    'C': ['C0', 'C1', 'C2', 'C3'],\n",
    "                    'D': ['D0', 'D1', 'D2', 'D3']})\n",
    "print(left)\n",
    "print(right)\n",
    "\n",
    "# how = ['left', 'right', 'outer', 'inner']\n",
    "# inner 合并 key 相同的部分；outer 合并 key 所有的部分\n",
    "res = pd.merge(left, right, on=['key1', 'key2'], how='inner')  # default for how='inner'\n",
    "print(res)\n",
    "res = pd.merge(left, right, on=['key1', 'key2'], how='left')\n",
    "print(res)"
   ]
  },
  {
   "cell_type": "code",
   "execution_count": 17,
   "metadata": {},
   "outputs": [
    {
     "name": "stdout",
     "output_type": "stream",
     "text": [
      "   col1  A\n",
      "0     0  a\n",
      "1     1  b\n",
      "   col1  B\n",
      "0     1  2\n",
      "1     2  2\n",
      "2     2  2\n",
      "   col1    A    B      _merge\n",
      "0     0    a  NaN   left_only\n",
      "1     1    b  2.0        both\n",
      "2     2  NaN  2.0  right_only\n",
      "3     2  NaN  2.0  right_only\n",
      "   col1    A    B indicator_column\n",
      "0     0    a  NaN        left_only\n",
      "1     1    b  2.0             both\n",
      "2     2  NaN  2.0       right_only\n",
      "3     2  NaN  2.0       right_only\n"
     ]
    }
   ],
   "source": [
    "df1 = pd.DataFrame({'col1':[0,1], 'A':['a','b']})\n",
    "df2 = pd.DataFrame({'col1':[1,2,2],'B':[2,2,2]})\n",
    "print(df1)\n",
    "print(df2)\n",
    "res = pd.merge(df1, df2, on='col1', how='outer', indicator=True) # indicator=True会将合并的记录放在新的一列\n",
    "print(res)\n",
    "res = pd.merge(df1, df2, on='col1', how='outer', indicator='indicator_column') # 自定indicator column的名称\n",
    "print(res)"
   ]
  },
  {
   "cell_type": "code",
   "execution_count": 18,
   "metadata": {},
   "outputs": [
    {
     "name": "stdout",
     "output_type": "stream",
     "text": [
      "     A   B\n",
      "K0  A0  B0\n",
      "K1  A1  B1\n",
      "K2  A2  B2\n",
      "     C   D\n",
      "K0  C0  D0\n",
      "K2  C2  D2\n",
      "K3  C3  D3\n",
      "      A    B    C    D\n",
      "K0   A0   B0   C0   D0\n",
      "K1   A1   B1  NaN  NaN\n",
      "K2   A2   B2   C2   D2\n",
      "K3  NaN  NaN   C3   D3\n",
      "     A   B   C   D\n",
      "K0  A0  B0  C0  D0\n",
      "K2  A2  B2  C2  D2\n"
     ]
    }
   ],
   "source": [
    "left = pd.DataFrame({'A': ['A0', 'A1', 'A2'],\n",
    "                    'B': ['B0', 'B1', 'B2']},\n",
    "                    index=['K0', 'K1', 'K2'])\n",
    "right = pd.DataFrame({'C': ['C0', 'C2', 'C3'],\n",
    "                    'D': ['D0', 'D2', 'D3']},\n",
    "                    index=['K0', 'K2', 'K3'])\n",
    "print(left)\n",
    "print(right)\n",
    "res = pd.merge(left, right, left_index=True, right_index=True, how='outer') # 依据左右资料集的index进行合并\n",
    "print(res)\n",
    "res = pd.merge(left, right, left_index=True, right_index=True, how='inner') # 依据左右资料集的index进行合并\n",
    "print(res)"
   ]
  },
  {
   "cell_type": "code",
   "execution_count": 19,
   "metadata": {},
   "outputs": [
    {
     "name": "stdout",
     "output_type": "stream",
     "text": [
      "    k  age_boy  age_girl\n",
      "0  K0        1         4\n",
      "1  K0        1         5\n"
     ]
    }
   ],
   "source": [
    "boys = pd.DataFrame({'k': ['K0', 'K1', 'K2'], 'age': [1, 2, 3]})\n",
    "girls = pd.DataFrame({'k': ['K0', 'K0', 'K3'], 'age': [4, 5, 6]})\n",
    "res = pd.merge(boys, girls, on='k', suffixes=['_boy', '_girl'], how='inner') # 使用suffixes解决overlapping的问题\n",
    "print(res)"
   ]
  },
  {
   "attachments": {},
   "cell_type": "markdown",
   "metadata": {},
   "source": [
    "## 画图"
   ]
  },
  {
   "cell_type": "code",
   "execution_count": 17,
   "metadata": {},
   "outputs": [
    {
     "data": {
      "image/png": "[encoded data removed]",
      "text/plain": [
       "<Figure size 432x288 with 1 Axes>"
      ]
     },
     "metadata": {
      "needs_background": "light"
     },
     "output_type": "display_data"
    }
   ],
   "source": [
    "# Series\n",
    "data = pd.Series(np.random.randn(1000), index=np.arange(1000))\n",
    "data = data.cumsum()\n",
    "data.plot()\n",
    "plt.show()"
   ]
  },
  {
   "cell_type": "code",
   "execution_count": 18,
   "metadata": {},
   "outputs": [
    {
     "data": {
      "image/png": "[encoded data removed]",
      "text/plain": [
       "<Figure size 432x288 with 1 Axes>"
      ]
     },
     "metadata": {
      "needs_background": "light"
     },
     "output_type": "display_data"
    }
   ],
   "source": [
    "# DataFrame\n",
    "data = pd.DataFrame(np.random.randn(1000, 4), index=np.arange(1000), columns=list(\"ABCD\"))\n",
    "data = data.cumsum()\n",
    "data.plot()\n",
    "plt.show()\n",
    "# plot methods: 'bar', 'hist', 'box', 'kde', 'area', 'scatter', 'hexbin', 'pie'"
   ]
  },
  {
   "cell_type": "code",
   "execution_count": 19,
   "metadata": {},
   "outputs": [
    {
     "data": {
      "text/plain": [
       "<AxesSubplot:xlabel='A', ylabel='C'>"
      ]
     },
     "execution_count": 19,
     "metadata": {},
     "output_type": "execute_result"
    },
    {
     "data": {
      "image/png": "[encoded data removed]",
      "text/plain": [
       "<Figure size 432x288 with 1 Axes>"
      ]
     },
     "metadata": {
      "needs_background": "light"
     },
     "output_type": "display_data"
    }
   ],
   "source": [
    "class1 = data.plot.scatter(x='A', y='B', color='DarkBlue', label=\"Class 1\")\n",
    "data.plot.scatter(x='A', y='C', color='LightGreen', label='Class 2', ax=class1)"
   ]
  },
  {
   "attachments": {},
   "cell_type": "markdown",
   "metadata": {},
   "source": [
    "## 其他内容"
   ]
  },
  {
   "cell_type": "code",
   "execution_count": 22,
   "metadata": {},
   "outputs": [
    {
     "name": "stdout",
     "output_type": "stream",
     "text": [
      "     A      B         C         D\n",
      "0  foo    one -1.054872  0.162979\n",
      "1  bar    one  0.498749  1.030279\n",
      "2  foo    two -0.650264  0.907854\n",
      "3  bar  three -0.373368  0.651062\n",
      "4  foo    two -1.296938 -0.193180\n",
      "5  bar    two -1.406397 -1.839750\n",
      "6  foo    one -1.425530  1.698789\n",
      "7  bar  three  0.938254  1.012923\n",
      "            C         D\n",
      "A                      \n",
      "bar -0.342762  0.854513\n",
      "foo -4.427603  2.576441\n",
      "                  C         D\n",
      "A   B                        \n",
      "bar one    0.498749  1.030279\n",
      "    three  0.564886  1.663984\n",
      "    two   -1.406397 -1.839750\n",
      "foo one   -2.480402  1.861768\n",
      "    two   -1.947202  0.714673\n"
     ]
    }
   ],
   "source": [
    "df = pd.DataFrame({'A':['foo','bar']*4, 'B':['one','one','two','three','two','two','one','three'], 'C':np.random.randn(8), 'D':np.random.randn(8)})\n",
    "print(df)\n",
    "print(df.groupby('A').sum()) # 数据分组\n",
    "print(df.groupby(['A','B']).sum())"
   ]
  },
  {
   "cell_type": "code",
   "execution_count": 40,
   "metadata": {},
   "outputs": [
    {
     "name": "stdout",
     "output_type": "stream",
     "text": [
      "{'小明': [1, 4], '小红': [0, 2, 3]}\n",
      "    人    人物  评价\n",
      "0  小红  哈利波特  80\n",
      "2  小红    雷神  83\n",
      "3  小红   蜘蛛侠  45\n",
      "    人    人物  评价\n",
      "0  小红  哈利波特  80\n",
      "2  小红    雷神  83\n",
      "3  小红   蜘蛛侠  45\n",
      "      人物  评价\n",
      "人           \n",
      "小明   蜘蛛侠  72\n",
      "小红  哈利波特  80\n",
      "     人物  评价\n",
      "人          \n",
      "小明   超人  57\n",
      "小红  蜘蛛侠  45\n"
     ]
    }
   ],
   "source": [
    "df = pd.DataFrame(\n",
    "    [\n",
    "        (\"小红\", \"哈利波特\", 80),\n",
    "        (\"小明\", \"蜘蛛侠\", 72),\n",
    "        (\"小红\", \"雷神\", 83),\n",
    "        (\"小红\", \"蜘蛛侠\", 45),\n",
    "        (\"小明\", \"超人\", 57),\n",
    "    ],\n",
    "    columns=(\"人\", \"人物\", \"评价\"),\n",
    ")\n",
    "grouped = df.groupby(\"人\")\n",
    "print(grouped.groups)\n",
    "print(df.iloc[grouped.groups[\"小红\"]]) # 两种获取不同的组别的方式\n",
    "print(grouped.get_group(\"小红\"))\n",
    "\n",
    "print(grouped.first()) # 返回每一个组的第一个数据\n",
    "print(grouped.last()) # 返回每一个组的最后一个数据\n",
    "print(grouped.sum())\n",
    "\n",
    "for name, group in grouped: # 带着两个字段做循环\n",
    "    print(\"name:\", name)\n",
    "    print(group)"
   ]
  },
  {
   "cell_type": "code",
   "execution_count": 43,
   "metadata": {},
   "outputs": [
    {
     "data": {
      "text/html": [
       "<div>\n",
       "<style scoped>\n",
       "    .dataframe tbody tr th:only-of-type {\n",
       "        vertical-align: middle;\n",
       "    }\n",
       "\n",
       "    .dataframe tbody tr th {\n",
       "        vertical-align: top;\n",
       "    }\n",
       "\n",
       "    .dataframe thead th {\n",
       "        text-align: right;\n",
       "    }\n",
       "</style>\n",
       "<table border=\"1\" class=\"dataframe\">\n",
       "  <thead>\n",
       "    <tr style=\"text-align: right;\">\n",
       "      <th></th>\n",
       "      <th>合</th>\n",
       "      <th>均值</th>\n",
       "      <th>标准差</th>\n",
       "    </tr>\n",
       "    <tr>\n",
       "      <th>人</th>\n",
       "      <th></th>\n",
       "      <th></th>\n",
       "      <th></th>\n",
       "    </tr>\n",
       "  </thead>\n",
       "  <tbody>\n",
       "    <tr>\n",
       "      <th>小明</th>\n",
       "      <td>129</td>\n",
       "      <td>64.5</td>\n",
       "      <td>10.606602</td>\n",
       "    </tr>\n",
       "    <tr>\n",
       "      <th>小红</th>\n",
       "      <td>298</td>\n",
       "      <td>74.5</td>\n",
       "      <td>20.108042</td>\n",
       "    </tr>\n",
       "  </tbody>\n",
       "</table>\n",
       "</div>"
      ],
      "text/plain": [
       "      合    均值        标准差\n",
       "人                       \n",
       "小明  129  64.5  10.606602\n",
       "小红  298  74.5  20.108042"
      ]
     },
     "execution_count": 43,
     "metadata": {},
     "output_type": "execute_result"
    }
   ],
   "source": [
    "grouped = df.groupby(\"人\")\n",
    "grouped.aggregate(np.sum) # 聚合操作\n",
    "grouped[\"评价\"].agg([np.sum, np.mean, np.std])\n",
    "grouped[\"评价\"].agg([np.sum, np.mean, np.std]).rename(columns={\"sum\": \"合\", \"mean\": \"均值\", \"std\": \"标准差\"})"
   ]
  },
  {
   "cell_type": "code",
   "execution_count": 41,
   "metadata": {},
   "outputs": [
    {
     "name": "stdout",
     "output_type": "stream",
     "text": [
      "    人  人物  评价\n",
      "2  小红  雷神  83\n",
      "3  小红  雷神  90\n"
     ]
    }
   ],
   "source": [
    "df = pd.DataFrame(\n",
    "    [\n",
    "        (\"小红\", \"哈利波特\", 80),\n",
    "        (\"小明\", \"蜘蛛侠\", 72),\n",
    "        (\"小红\", \"雷神\", 83),\n",
    "        (\"小红\", \"雷神\", 90),\n",
    "        (\"小红\", \"蜘蛛侠\", 45),\n",
    "        (\"小明\", \"超人\", 57),\n",
    "    ],\n",
    "    columns=(\"人\", \"人物\", \"评价\"),\n",
    ")\n",
    "print(df.groupby([\"人\", \"人物\"]).get_group((\"小红\", \"雷神\"))) # 多重聚合"
   ]
  },
  {
   "cell_type": "code",
   "execution_count": 23,
   "metadata": {},
   "outputs": [
    {
     "name": "stdout",
     "output_type": "stream",
     "text": [
      "        A  B    C         D         E\n",
      "0     one  A  foo -3.291796  2.704268\n",
      "1     one  B  foo  0.867503  1.174794\n",
      "2     two  C  foo -0.072596 -0.666124\n",
      "3   three  A  bar  0.508798 -0.230509\n",
      "4     one  B  bar  0.758539  0.645396\n",
      "5     one  C  bar  0.987312  0.016643\n",
      "6     two  A  foo  1.219825 -2.414790\n",
      "7   three  B  foo -2.467378  0.792051\n",
      "8     one  C  foo -0.618171 -2.013014\n",
      "9     one  A  bar  0.279181 -1.367238\n",
      "10    two  B  bar  1.416915  0.676812\n",
      "11  three  C  bar  0.026960 -0.295927\n",
      "C             bar       foo\n",
      "A     B                    \n",
      "one   A  0.279181 -3.291796\n",
      "      B  0.758539  0.867503\n",
      "      C  0.987312 -0.618171\n",
      "three A  0.508798       NaN\n",
      "      B       NaN -2.467378\n",
      "      C  0.026960       NaN\n",
      "two   A       NaN  1.219825\n",
      "      B  1.416915       NaN\n",
      "      C       NaN -0.072596\n"
     ]
    }
   ],
   "source": [
    "df = pd.DataFrame({'A':['one','one','two','three']*3, 'B':['A','B','C']*4, 'C':(['foo']*3+['bar']*3)*2, 'D':np.random.randn(12), 'E':np.random.randn(12)})\n",
    "print(df)\n",
    "print(pd.pivot_table(df, values='D', index=['A','B'], columns=['C']))"
   ]
  },
  {
   "cell_type": "code",
   "execution_count": 36,
   "metadata": {},
   "outputs": [
    {
     "name": "stdout",
     "output_type": "stream",
     "text": [
      "   A  B\n",
      "0  4  9\n",
      "1  4  9\n",
      "2  4  9\n"
     ]
    },
    {
     "data": {
      "text/html": [
       "<div>\n",
       "<style scoped>\n",
       "    .dataframe tbody tr th:only-of-type {\n",
       "        vertical-align: middle;\n",
       "    }\n",
       "\n",
       "    .dataframe tbody tr th {\n",
       "        vertical-align: top;\n",
       "    }\n",
       "\n",
       "    .dataframe thead th {\n",
       "        text-align: right;\n",
       "    }\n",
       "</style>\n",
       "<table border=\"1\" class=\"dataframe\">\n",
       "  <thead>\n",
       "    <tr style=\"text-align: right;\">\n",
       "      <th></th>\n",
       "      <th>A</th>\n",
       "      <th>B</th>\n",
       "    </tr>\n",
       "  </thead>\n",
       "  <tbody>\n",
       "    <tr>\n",
       "      <th>0</th>\n",
       "      <td>8</td>\n",
       "      <td>-9</td>\n",
       "    </tr>\n",
       "    <tr>\n",
       "      <th>1</th>\n",
       "      <td>8</td>\n",
       "      <td>-9</td>\n",
       "    </tr>\n",
       "    <tr>\n",
       "      <th>2</th>\n",
       "      <td>8</td>\n",
       "      <td>-9</td>\n",
       "    </tr>\n",
       "  </tbody>\n",
       "</table>\n",
       "</div>"
      ],
      "text/plain": [
       "   A  B\n",
       "0  8 -9\n",
       "1  8 -9\n",
       "2  8 -9"
      ]
     },
     "execution_count": 36,
     "metadata": {},
     "output_type": "execute_result"
    }
   ],
   "source": [
    "df = pd.DataFrame([[4, 9]] * 3, columns=['A', 'B'])\n",
    "print(df)\n",
    "df.apply(np.sqrt) # 批处理数据方法\n",
    "\n",
    "def func(x):\n",
    "    return x[0] * 2, x[1] * -1\n",
    "\n",
    "df.apply(func, axis=1, result_type='expand') # result_type=\"expand\" 让输出的结果可以生成多 column\n",
    "df.apply(func, axis=1, result_type='broadcast') # reult_type=\"broadcast\" 原 column 和 index 名会继承到新生成的数据中"
   ]
  },
  {
   "attachments": {},
   "cell_type": "markdown",
   "metadata": {},
   "source": [
    "## 加速技巧"
   ]
  },
  {
   "cell_type": "code",
   "execution_count": 2,
   "metadata": {},
   "outputs": [
    {
     "name": "stdout",
     "output_type": "stream",
     "text": [
      "           time  value\n",
      "1   1949.000000    112\n",
      "2   1949.083333    118\n",
      "3   1949.166667    132\n",
      "4   1949.250000    129\n",
      "5   1949.333333    121\n",
      "6   1949.416667    135\n",
      "7   1949.500000    148\n",
      "8   1949.583333    148\n",
      "9   1949.666667    136\n",
      "10  1949.750000    119\n"
     ]
    }
   ],
   "source": [
    "# 从 csv 文件中导入几行\n",
    "import io\n",
    "import requests\n",
    "import pandas as pd\n",
    "url = \"https://raw.github.com/vincentarelbundock/Rdatasets/master/csv/datasets/AirPassengers.csv\"\n",
    "s = requests.get(url).content # read only first 10 rows\n",
    "df = pd.read_csv(io.StringIO(s.decode('utf-8')), nrows=10, index_col=0)\n",
    "print(df)"
   ]
  },
  {
   "cell_type": "code",
   "execution_count": 16,
   "metadata": {},
   "outputs": [
    {
     "name": "stdout",
     "output_type": "stream",
     "text": [
      "               b         d         e\n",
      "India   0.318855 -0.289892 -2.649669\n",
      "USA    -1.122057  0.565511  1.200142\n",
      "China  -0.247194 -0.740230 -0.604386\n",
      "Russia -0.032590  0.669790 -1.726173\n",
      "               b          d         e\n",
      "India   0.318855 -28.989194 -2.649669\n",
      "USA    -1.122057  56.551144  1.200142\n",
      "China  -0.247194 -74.022973 -0.604386\n",
      "Russia -0.032590  66.978975 -1.726173\n"
     ]
    },
    {
     "data": {
      "text/plain": [
       "b      1.440912\n",
       "d    141.001949\n",
       "e      3.849811\n",
       "dtype: float64"
      ]
     },
     "execution_count": 16,
     "metadata": {},
     "output_type": "execute_result"
    }
   ],
   "source": [
    "# map() 函数根据相应的输入来映射 Series 的值。\n",
    "# apply() 允许用户传递函数，并将其应用于 Pandas 序列中的每个值。\n",
    "import numpy as np\n",
    "dframe = pd.DataFrame(np.random.randn(4, 3), \n",
    "                      columns=list('bde'), \n",
    "                      index=['India', 'USA', 'China', 'Russia'])\n",
    "print(dframe)\n",
    "\n",
    "dframe['d'] = dframe['d'].map(lambda x: 100*x)\n",
    "print(dframe)\n",
    "\n",
    "dframe.apply(lambda x: x.max() - x.min())"
   ]
  },
  {
   "cell_type": "code",
   "execution_count": 17,
   "metadata": {},
   "outputs": [
    {
     "name": "stdout",
     "output_type": "stream",
     "text": [
      "0         USA\n",
      "1    Pakistan\n",
      "2       China\n",
      "3    Mongolia\n",
      "dtype: object\n",
      "0         USA\n",
      "1    Pakistan\n",
      "2       China\n",
      "3    Mongolia\n",
      "dtype: object\n"
     ]
    }
   ],
   "source": [
    "# Copy () 函数用于复制 Pandas 对象。\n",
    "data = pd.Series(['India', 'Pakistan', 'China', 'Mongolia'])\n",
    "data1 = data\n",
    "data1[0]='USA'\n",
    "print(data)\n",
    "\n",
    "data2 = data.copy()\n",
    "data2[0]='Changed Value'\n",
    "print(data)"
   ]
  }
 ],
 "metadata": {
  "kernelspec": {
   "display_name": "Python 3.8.6 ('torch')",
   "language": "python",
   "name": "python3"
  },
  "language_info": {
   "codemirror_mode": {
    "name": "ipython",
    "version": 3
   },
   "file_extension": ".py",
   "mimetype": "text/x-python",
   "name": "python",
   "nbconvert_exporter": "python",
   "pygments_lexer": "ipython3",
   "version": "3.8.6"
  },
  "orig_nbformat": 2,
  "vscode": {
   "interpreter": {
    "hash": "59a952c6e241a26c2846444102601f9ad365365f06d32145faf788e20fd176b1"
   }
  }
 },
 "nbformat": 4,
 "nbformat_minor": 2
}
